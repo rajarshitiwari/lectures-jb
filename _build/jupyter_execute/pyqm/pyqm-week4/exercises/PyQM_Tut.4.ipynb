{
 "cells": [
  {
   "cell_type": "markdown",
   "id": "7c3df5dd",
   "metadata": {},
   "source": [
    "<center>\n",
    "\n",
    "# Python for Quantum Mechanics: \n",
    "# Week 4 Tutorial\n",
    "\n",
    "</center>"
   ]
  },
  {
   "cell_type": "code",
   "execution_count": 1,
   "id": "23d88e26",
   "metadata": {},
   "outputs": [],
   "source": [
    "import numpy as np\n",
    "import numpy.random as rnd"
   ]
  },
  {
   "cell_type": "markdown",
   "id": "beb205c4",
   "metadata": {},
   "source": [
    "<center>\n",
    "\n",
    "## Exercise 1: Multiplying Matrices\n",
    "\n",
    "</center>\n",
    "\n",
    "Create and multiply the following arrays using Numpy.\n",
    "\n",
    "$ \\begin{bmatrix}\n",
    "1 & 0 & 0 & 0 & 0 & 0 \\\\ 0&1 & 0 & 0 & 0 & 0 \\\\\n",
    "0&0 & 0 & 1 & 0 & 0 \\\\ 0&0 & 1 & 0 & 0 & 0 \\\\\n",
    "0&0 & 0 & 0 & 1 & 0 \\\\ 0&0 & 0 & 0 & 0 & 1\n",
    "\\end{bmatrix} \\times \\begin{bmatrix}\n",
    "1 \\\\ 0 \\\\ 1 \\\\ 0 \\\\ 1 \\\\ 0\n",
    "\\end{bmatrix} = \\begin{bmatrix}\n",
    "? \\\\ ? \\\\?\\\\?\\\\?\\\\?\n",
    "\\end{bmatrix}$"
   ]
  },
  {
   "cell_type": "code",
   "execution_count": 2,
   "id": "2e7eef72",
   "metadata": {},
   "outputs": [
    {
     "name": "stdout",
     "output_type": "stream",
     "text": [
      "[[1]\n",
      " [0]\n",
      " [0]\n",
      " [1]\n",
      " [1]\n",
      " [0]]\n"
     ]
    }
   ],
   "source": [
    "arr1 = np.eye(6, dtype = int)\n",
    "arr1[2,3],arr1[3,2] = 1,1\n",
    "arr1[2,2],arr1[3,3] = 0,0\n",
    "\n",
    "arr2 = np.array([[1],[0],[1],[0],[1],[0]])\n",
    "\n",
    "result = arr1@arr2\n",
    "print(result)"
   ]
  },
  {
   "cell_type": "markdown",
   "id": "071b9940",
   "metadata": {},
   "source": [
    "<center>\n",
    "\n",
    "## Exercise 2: Slicing Arrays\n",
    "\n",
    "</center>\n",
    "\n",
    "Take the arrays from exercise 1 and slice them to then execute the following expression\n",
    "\n",
    "$ \\begin{bmatrix}\n",
    "0 & 1 \\\\ 1&0\n",
    "\\end{bmatrix} \\times \\begin{bmatrix}\n",
    "1 \\\\ 0\n",
    "\\end{bmatrix} = \\begin{bmatrix}\n",
    "? \\\\ ?\n",
    "\\end{bmatrix}$"
   ]
  },
  {
   "cell_type": "code",
   "execution_count": 3,
   "id": "3e23ec76",
   "metadata": {},
   "outputs": [
    {
     "name": "stdout",
     "output_type": "stream",
     "text": [
      "[[0]\n",
      " [1]]\n"
     ]
    }
   ],
   "source": [
    "arr1 = arr1[2:4,2:4]\n",
    "arr2 = arr2[2:4]\n",
    "print(arr1@arr2)"
   ]
  },
  {
   "cell_type": "markdown",
   "id": "3cc4f4f1",
   "metadata": {},
   "source": [
    "<center>\n",
    "\n",
    "## Exercise 3: Diagonalise\n",
    "\n",
    "</center>\n",
    "\n",
    "Using the eigenvector matrix $E$ of a random $(6,6)$ matrix $A$, diagonalise it with the formula\n",
    "\n",
    "$$ D = E^{-1}AE$$"
   ]
  },
  {
   "cell_type": "code",
   "execution_count": 4,
   "id": "d585522c",
   "metadata": {},
   "outputs": [
    {
     "name": "stdout",
     "output_type": "stream",
     "text": [
      "[[ 3.396+0.j     0.   -0.j     0.   -0.j     0.   +0.j     0.   -0.j\n",
      "  -0.   +0.j   ]\n",
      " [-0.   +0.j     0.619-0.j    -0.   +0.j    -0.   -0.j     0.   +0.j\n",
      "  -0.   -0.j   ]\n",
      " [-0.   -0.j     0.   -0.j    -0.495+0.404j  0.   +0.j    -0.   -0.j\n",
      "   0.   +0.j   ]\n",
      " [-0.   +0.j     0.   +0.j     0.   -0.j    -0.495-0.404j -0.   +0.j\n",
      "   0.   -0.j   ]\n",
      " [-0.   +0.j    -0.   +0.j    -0.   -0.j    -0.   +0.j    -0.445-0.j\n",
      "   0.   +0.j   ]\n",
      " [-0.   -0.j     0.   -0.j    -0.   -0.j    -0.   +0.j     0.   +0.j\n",
      "   0.004-0.j   ]]\n"
     ]
    }
   ],
   "source": [
    "A = rnd.random((6,6))\n",
    "\n",
    "eigval, E = np.linalg.eig(A)\n",
    "\n",
    "D = np.linalg.inv(E)@A@E\n",
    "\n",
    "print(np.round(D,3))"
   ]
  },
  {
   "cell_type": "markdown",
   "id": "42c9ebc4",
   "metadata": {},
   "source": [
    "<center>\n",
    "\n",
    "## Exercise 4: Normal Distribution\n",
    "\n",
    "</center>\n",
    "\n",
    "Create an array of size $10,000$ with a normal distribution with mean $100$ and standard deviation of $10$."
   ]
  },
  {
   "cell_type": "code",
   "execution_count": 5,
   "id": "4da4ed5e",
   "metadata": {},
   "outputs": [
    {
     "name": "stdout",
     "output_type": "stream",
     "text": [
      "[105.24610229 116.71951858  91.04038541 ...  93.78293118  98.19723413\n",
      "  71.50750726]\n",
      "100.07147535468201\n",
      "9.974039719608212\n",
      "99.48146832832228\n"
     ]
    }
   ],
   "source": [
    "mu, sigma, size = 100, 10, 10000\n",
    "\n",
    "norm_arr = rnd.normal(mu, sigma, size)\n",
    "\n",
    "print(norm_arr)\n",
    "\n",
    "print(np.mean(norm_arr))\n",
    "print(np.std(norm_arr))\n",
    "print(np.var(norm_arr))"
   ]
  },
  {
   "cell_type": "markdown",
   "id": "51a532a7",
   "metadata": {},
   "source": [
    "Now create a random array, of integers between $0\\rightarrow10,000$, of size $1,000$."
   ]
  },
  {
   "cell_type": "code",
   "execution_count": 6,
   "id": "bdc5a83f",
   "metadata": {},
   "outputs": [],
   "source": [
    "rarr = rnd.randint(0,10000,1000)\n",
    "rarr = 10000*rnd.random(1000)\n",
    "rarr = rnd.choice(np.arange(10000),1000,replace=False)"
   ]
  },
  {
   "cell_type": "markdown",
   "id": "53f31cdc",
   "metadata": {},
   "source": [
    "Using this random array, pull a random sample from that of the normal distribution."
   ]
  },
  {
   "cell_type": "code",
   "execution_count": 7,
   "id": "98719704",
   "metadata": {},
   "outputs": [],
   "source": [
    "radnom_sample = norm_arr[rarr]"
   ]
  },
  {
   "cell_type": "markdown",
   "id": "b063e2ad",
   "metadata": {},
   "source": [
    "Analyse this random_sample, find it's mean, std and variance."
   ]
  },
  {
   "cell_type": "code",
   "execution_count": 8,
   "id": "aad560cc",
   "metadata": {},
   "outputs": [
    {
     "name": "stdout",
     "output_type": "stream",
     "text": [
      "100.50542072675611\n",
      "10.123670697845961\n",
      "102.48870839842492\n"
     ]
    }
   ],
   "source": [
    "print(np.mean(radnom_sample))\n",
    "print(np.std(radnom_sample))\n",
    "print(np.var(radnom_sample))"
   ]
  },
  {
   "cell_type": "markdown",
   "id": "d257cab7",
   "metadata": {},
   "source": [
    "<center>\n",
    "\n",
    "## Exercise 5: Linear Regression & Stochastic Gradient Descent\n",
    "\n",
    "</center>\n",
    "\n",
    "Use stochastic gradient descent to minimise the cost function for a linear least-square fit. Return the slope and y-intercept of the resulting line. Fit the following scattered data points (x,y)."
   ]
  },
  {
   "cell_type": "code",
   "execution_count": 9,
   "id": "fe4015f2",
   "metadata": {},
   "outputs": [],
   "source": [
    "m = 3\n",
    "c = 2\n",
    "\n",
    "x = np.arange(0,10,0.1)\n",
    "y = m*x + c + 0.1*rnd.random(len(x))*(rnd.choice([-1,1]))"
   ]
  },
  {
   "cell_type": "code",
   "execution_count": 10,
   "id": "04c133e2",
   "metadata": {},
   "outputs": [
    {
     "name": "stdout",
     "output_type": "stream",
     "text": [
      "[1.3 1.4 3.5 3.6 5.2 5.9 6.  6.9 7.8 8.6]\n"
     ]
    }
   ],
   "source": [
    "sample_size = int(len(x)/10)\n",
    "\n",
    "rarr = np.sort(rnd.randint(0,len(x),sample_size))\n",
    "\n",
    "x = x[rarr]\n",
    "y = y[rarr]\n",
    "\n",
    "print(x)"
   ]
  },
  {
   "cell_type": "code",
   "execution_count": 11,
   "id": "d8d3215d",
   "metadata": {},
   "outputs": [],
   "source": [
    "def cost(x,y,m,c):\n",
    "    return 1/(len(x))*sum(i**2 for i in (y-(m*x+c)))\n",
    "\n",
    "def m_grad(x,y,m,c):\n",
    "    return -2/len(x)*sum(i for i in (x*(y-(m*x+c))))\n",
    "\n",
    "def c_grad(x,y,m,c):\n",
    "    return -2/len(x)*sum(i for i in (y-(m*x+c)))"
   ]
  },
  {
   "cell_type": "code",
   "execution_count": 12,
   "id": "c43566cf",
   "metadata": {},
   "outputs": [],
   "source": [
    "def gradient_descent(x,y,guess, L, n_iter):\n",
    "    for i in range(n_iter):\n",
    "        guess[0], guess[1] = guess[0] - L*m_grad(x,y,guess[0],guess[1]),guess[1] - L*c_grad(x,y,guess[0],guess[1])\n",
    "    return guess"
   ]
  },
  {
   "cell_type": "code",
   "execution_count": 13,
   "id": "8e1311f2",
   "metadata": {},
   "outputs": [
    {
     "name": "stdout",
     "output_type": "stream",
     "text": [
      "[3.00596805 1.9260394 ]\n"
     ]
    }
   ],
   "source": [
    "guess = np.array([1.0,1.0])\n",
    "L = 0.01\n",
    "n_iter = 10000\n",
    "\n",
    "print(gradient_descent(x,y,guess,L,n_iter))"
   ]
  },
  {
   "cell_type": "markdown",
   "id": "02473c24",
   "metadata": {},
   "source": [
    "<center>\n",
    "\n",
    "## Exercise 6: Random Pi\n",
    "    \n",
    "</center>\n",
    "\n",
    "Using `rnd.random()`, calculate $\\pi$."
   ]
  },
  {
   "cell_type": "code",
   "execution_count": 14,
   "id": "436a9d20",
   "metadata": {},
   "outputs": [
    {
     "name": "stdout",
     "output_type": "stream",
     "text": [
      "3.142424\n"
     ]
    }
   ],
   "source": [
    "n = 1000000\n",
    "print(4*sum(rnd.random(n)**2 + rnd.random(n)**2 < 1)/n)"
   ]
  },
  {
   "cell_type": "markdown",
   "id": "65b1bf7a",
   "metadata": {},
   "source": [
    "<center>\n",
    "\n",
    "## Exercise 7: Random Walk\n",
    "    \n",
    "</center>\n",
    "\n",
    "Write a compact algorithm using numpy array functionality to generate a random walk. Find the root-mean-squared distance against the steps taken."
   ]
  },
  {
   "cell_type": "code",
   "execution_count": 15,
   "id": "222ff8b7",
   "metadata": {},
   "outputs": [],
   "source": [
    "import matplotlib.pyplot as plt"
   ]
  },
  {
   "cell_type": "code",
   "execution_count": 16,
   "id": "cec90957",
   "metadata": {},
   "outputs": [
    {
     "data": {
      "image/png": "[encoded data removed]",
      "text/plain": [
       "<Figure size 640x480 with 1 Axes>"
      ]
     },
     "metadata": {},
     "output_type": "display_data"
    }
   ],
   "source": [
    "steps = 200\n",
    "walks = 2000\n",
    "\n",
    "y = np.zeros(steps)\n",
    "\n",
    "Square_Sum = np.zeros(steps)\n",
    "\n",
    "for j in range(walks):\n",
    "    for i in range(1,steps):\n",
    "        y[i] = y[i-1] + rnd.choice([-1,1])\n",
    "        Square_Sum[i] += (y[i])**2\n",
    "\n",
    "RMS = np.sqrt(Square_Sum/walks)\n",
    "\n",
    "plt.plot(np.arange(steps), RMS)\n",
    "plt.show()"
   ]
  },
  {
   "cell_type": "code",
   "execution_count": 17,
   "id": "2dc22809",
   "metadata": {},
   "outputs": [
    {
     "data": {
      "image/png": "[encoded data removed]",
      "text/plain": [
       "<Figure size 640x480 with 1 Axes>"
      ]
     },
     "metadata": {},
     "output_type": "display_data"
    }
   ],
   "source": [
    "steps = 500\n",
    "walks = 2000\n",
    "\n",
    "\n",
    "y = np.cumsum(np.array(rnd.choice([-1,1],(walks,steps))),axis=1)\n",
    "\n",
    "Square_Sum = np.sqrt(sum(y**2)/walks)\n",
    "\n",
    "plt.plot(np.arange(steps), Square_Sum)\n",
    "plt.show()"
   ]
  },
  {
   "cell_type": "markdown",
   "id": "e1a0cf89",
   "metadata": {},
   "source": [
    "<center>\n",
    "\n",
    "## Exercise 8: Quantum Random Walk\n",
    "    \n",
    "</center>"
   ]
  },
  {
   "cell_type": "code",
   "execution_count": 18,
   "id": "54dd0cef",
   "metadata": {},
   "outputs": [
    {
     "ename": "ModuleNotFoundError",
     "evalue": "No module named 'scipy'",
     "output_type": "error",
     "traceback": [
      "\u001b[0;31m---------------------------------------------------------------------------\u001b[0m",
      "\u001b[0;31mModuleNotFoundError\u001b[0m                       Traceback (most recent call last)",
      "Cell \u001b[0;32mIn[18], line 1\u001b[0m\n\u001b[0;32m----> 1\u001b[0m \u001b[38;5;28;01mfrom\u001b[39;00m \u001b[38;5;21;01mscipy\u001b[39;00m\u001b[38;5;21;01m.\u001b[39;00m\u001b[38;5;21;01mlinalg\u001b[39;00m \u001b[38;5;28;01mimport\u001b[39;00m expm\n\u001b[1;32m      3\u001b[0m \u001b[38;5;28;01mdef\u001b[39;00m \u001b[38;5;21madj_cycle\u001b[39m(n):\n\u001b[1;32m      4\u001b[0m     A \u001b[38;5;241m=\u001b[39m np\u001b[38;5;241m.\u001b[39mzeros((n,n))\n",
      "\u001b[0;31mModuleNotFoundError\u001b[0m: No module named 'scipy'"
     ]
    }
   ],
   "source": [
    "from scipy.linalg import expm\n",
    "\n",
    "def adj_cycle(n):\n",
    "    A = np.zeros((n,n))\n",
    "    for x in range(n):\n",
    "        A[x, (x+1)%n] = 1\n",
    "        A[(x+1)%n, x] = 1\n",
    "        \n",
    "    return A"
   ]
  },
  {
   "cell_type": "code",
   "execution_count": 63,
   "id": "65d5e51c",
   "metadata": {},
   "outputs": [
    {
     "data": {
      "image/png": "[encoded data removed]",
      "text/plain": [
       "<Figure size 432x288 with 1 Axes>"
      ]
     },
     "metadata": {
      "needs_background": "light"
     },
     "output_type": "display_data"
    }
   ],
   "source": [
    "n = 200\n",
    "t = 40\n",
    "\n",
    "H = adj_cycle(n)\n",
    "U = expm(-1j*H*t)\n",
    "\n",
    "initial = np.zeros((n,1))\n",
    "initial[n//2] = 1\n",
    "\n",
    "initial = np.abs(U@initial)**2\n",
    "\n",
    "plt.plot(initial)\n",
    "plt.show()"
   ]
  }
 ],
 "metadata": {
  "kernelspec": {
   "display_name": "Python 3",
   "language": "python",
   "name": "python3"
  },
  "language_info": {
   "codemirror_mode": {
    "name": "ipython",
    "version": 3
   },
   "file_extension": ".py",
   "mimetype": "text/x-python",
   "name": "python",
   "nbconvert_exporter": "python",
   "pygments_lexer": "ipython3",
   "version": "3.12.0"
  }
 },
 "nbformat": 4,
 "nbformat_minor": 5
}